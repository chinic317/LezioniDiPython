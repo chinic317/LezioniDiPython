{
 "cells": [
  {
   "cell_type": "markdown",
   "metadata": {
    "colab_type": "text",
    "id": "01NQRNJdAtk7"
   },
   "source": [
    "### This notebook contains some practice exercises for Python libraries such as \n",
    "#### 1) Numpy\n",
    "#### 2) Pandas\n",
    "#### 3) Matplotlib\n",
    "\n",
    "#### Solutions for the below exercises can be found Exercises solutions file\n",
    "##### Note: Please try the exercises first, if you are stuck then see the solutions"
   ]
  },
  {
   "cell_type": "markdown",
   "metadata": {
    "colab_type": "text",
    "id": "sXcRArmlBoz5"
   },
   "source": [
    "# Numpy"
   ]
  },
  {
   "cell_type": "code",
   "execution_count": 0,
   "metadata": {
    "colab": {},
    "colab_type": "code",
    "collapsed": true,
    "id": "W_-Kpcj-G5RC"
   },
   "outputs": [],
   "source": [
    "# Import Numpy\n",
    "import numpy as np"
   ]
  },
  {
   "cell_type": "markdown",
   "metadata": {
    "colab_type": "text",
    "id": "zTr8gscQGf2b"
   },
   "source": [
    "#### Exercise 1: Create an array of 64 values starting with 10 and ending with 15 and assign it to x\n",
    "\n",
    "#### **Remember**: The third parameter to linspace is the number of values to obtain from the real line interval starting from 10 to 15 in this case."
   ]
  },
  {
   "cell_type": "code",
   "execution_count": 0,
   "metadata": {
    "colab": {},
    "colab_type": "code",
    "collapsed": true,
    "id": "kZ3YYanuAbua"
   },
   "outputs": [],
   "source": [
    "x=np.array b"
   ]
  },
  {
   "cell_type": "markdown",
   "metadata": {
    "colab_type": "text",
    "id": "zsLlTVoNHLKp"
   },
   "source": [
    "#### Exercise 2: Reshape x into a 3-Dimensional Array"
   ]
  },
  {
   "cell_type": "code",
   "execution_count": 0,
   "metadata": {
    "colab": {},
    "colab_type": "code",
    "collapsed": true,
    "id": "AyiylELZHVWX"
   },
   "outputs": [],
   "source": []
  },
  {
   "cell_type": "markdown",
   "metadata": {
    "colab_type": "text",
    "id": "Rbq8wKfuIoGi"
   },
   "source": [
    "\n",
    "#### Exercise 3: Get the slice with first row of x (Numpy array slicing) "
   ]
  },
  {
   "cell_type": "code",
   "execution_count": 0,
   "metadata": {
    "colab": {},
    "colab_type": "code",
    "collapsed": true,
    "id": "wHiu-mDBI02o"
   },
   "outputs": [],
   "source": []
  },
  {
   "cell_type": "markdown",
   "metadata": {
    "colab_type": "text",
    "id": "aRoq4qAnCFYo"
   },
   "source": [
    "# Pandas\n",
    "\n",
    "##### Note: Basics can be found [link here](https://colab.research.google.com/drive/1qm3w99JlIe7wOJikRrb37kJMJYDyqqCR)"
   ]
  },
  {
   "cell_type": "markdown",
   "metadata": {
    "colab_type": "text",
    "id": "iCeXZObJNslE"
   },
   "source": [
    "#### Loading libraries and dataset\n"
   ]
  },
  {
   "cell_type": "code",
   "execution_count": 0,
   "metadata": {
    "colab": {
     "base_uri": "https://localhost:8080/",
     "height": 255
    },
    "colab_type": "code",
    "executionInfo": {
     "elapsed": 963,
     "status": "ok",
     "timestamp": 1582715893222,
     "user": {
      "displayName": "vamsi krishna varma Gunturi",
      "photoUrl": "https://lh3.googleusercontent.com/a-/AAuE7mDVkOmeh-heN1CRRvocTxwJHmqAgsnqRMpzM2K4=s64",
      "userId": "07556360944980168619"
     },
     "user_tz": -60
    },
    "id": "eq9PJ1zJCGO2",
    "outputId": "9f6d5b6c-f2e9-4781-a07d-f506445bf75f"
   },
   "outputs": [
    {
     "name": "stdout",
     "output_type": "stream",
     "text": [
      "     survived  pclass     sex   age  ...  deck  embark_town  alive  alone\n",
      "0           0       3    male  22.0  ...   NaN  Southampton     no  False\n",
      "1           1       1  female  38.0  ...     C    Cherbourg    yes  False\n",
      "2           1       3  female  26.0  ...   NaN  Southampton    yes   True\n",
      "3           1       1  female  35.0  ...     C  Southampton    yes  False\n",
      "4           0       3    male  35.0  ...   NaN  Southampton     no   True\n",
      "..        ...     ...     ...   ...  ...   ...          ...    ...    ...\n",
      "886         0       2    male  27.0  ...   NaN  Southampton     no   True\n",
      "887         1       1  female  19.0  ...     B  Southampton    yes   True\n",
      "888         0       3  female   NaN  ...   NaN  Southampton     no  False\n",
      "889         1       1    male  26.0  ...     C    Cherbourg    yes   True\n",
      "890         0       3    male  32.0  ...   NaN   Queenstown     no   True\n",
      "\n",
      "[891 rows x 15 columns]\n"
     ]
    }
   ],
   "source": [
    "import pandas as pd\n",
    "\n",
    "# Loading the titanic dataset from internet\n",
    "df = pd.read_csv(\"https://raw.githubusercontent.com/mwaskom/seaborn-data/master/titanic.csv\") \n",
    "\n",
    "print(df)\n"
   ]
  },
  {
   "cell_type": "markdown",
   "metadata": {
    "colab_type": "text",
    "id": "U8faGJ1QO0KJ"
   },
   "source": [
    "## Practice section 1: Knowing your data"
   ]
  },
  {
   "cell_type": "markdown",
   "metadata": {
    "colab_type": "text",
    "id": "BTzhz7B7S_dS"
   },
   "source": [
    "#### Exercise 1: Getting the first 10 rows of the dataset\n"
   ]
  },
  {
   "cell_type": "code",
   "execution_count": 0,
   "metadata": {
    "colab": {},
    "colab_type": "code",
    "collapsed": true,
    "id": "DTA7rBQAS_r7"
   },
   "outputs": [],
   "source": []
  },
  {
   "cell_type": "markdown",
   "metadata": {
    "colab_type": "text",
    "id": "ZLhUzEdYS_2x"
   },
   "source": [
    "#### Exercise 2: What is the number of observations in the dataset ?"
   ]
  },
  {
   "cell_type": "code",
   "execution_count": 0,
   "metadata": {
    "colab": {},
    "colab_type": "code",
    "collapsed": true,
    "id": "ssoiTnn_TAB_"
   },
   "outputs": [],
   "source": []
  },
  {
   "cell_type": "markdown",
   "metadata": {
    "colab_type": "text",
    "id": "5QBRNN5bTAMw"
   },
   "source": [
    "#### Exercise 3: What is the number of columns in the dataset?\n"
   ]
  },
  {
   "cell_type": "code",
   "execution_count": 0,
   "metadata": {
    "colab": {},
    "colab_type": "code",
    "collapsed": true,
    "id": "vu_5LAUsTAYe"
   },
   "outputs": [],
   "source": []
  },
  {
   "cell_type": "markdown",
   "metadata": {
    "colab_type": "text",
    "id": "4fBqzT4RTAk5"
   },
   "source": [
    "#### Exercise 4: What are the names of columns ?"
   ]
  },
  {
   "cell_type": "code",
   "execution_count": 0,
   "metadata": {
    "colab": {},
    "colab_type": "code",
    "collapsed": true,
    "id": "nwiF9BGTTBBZ"
   },
   "outputs": [],
   "source": []
  },
  {
   "cell_type": "markdown",
   "metadata": {
    "colab_type": "text",
    "id": "eClhbxBiTB8y"
   },
   "source": [
    "#### Exercise 5: How is the dataset indexed ?"
   ]
  },
  {
   "cell_type": "code",
   "execution_count": 0,
   "metadata": {
    "colab": {},
    "colab_type": "code",
    "collapsed": true,
    "id": "_MTfFvBATCJm"
   },
   "outputs": [],
   "source": []
  },
  {
   "cell_type": "markdown",
   "metadata": {
    "colab_type": "text",
    "id": "J3WtRqSpudgL"
   },
   "source": [
    "#### Exercise 6: How many people survived?"
   ]
  },
  {
   "cell_type": "code",
   "execution_count": 0,
   "metadata": {
    "colab": {},
    "colab_type": "code",
    "collapsed": true,
    "id": "2CJX8mCDudxM"
   },
   "outputs": [],
   "source": []
  },
  {
   "cell_type": "markdown",
   "metadata": {
    "colab_type": "text",
    "id": "fTBFzhJRueJA"
   },
   "source": [
    "#### Exercise 7: Print unique towns in Embark town field ?"
   ]
  },
  {
   "cell_type": "code",
   "execution_count": 0,
   "metadata": {
    "colab": {},
    "colab_type": "code",
    "collapsed": true,
    "id": "1AXT5l1queZW"
   },
   "outputs": [],
   "source": []
  },
  {
   "cell_type": "markdown",
   "metadata": {
    "colab_type": "text",
    "id": "Wxpc0jAivdwK"
   },
   "source": [
    "#### Exercise 8: Find the data type of age field ?"
   ]
  },
  {
   "cell_type": "code",
   "execution_count": 0,
   "metadata": {
    "colab": {},
    "colab_type": "code",
    "collapsed": true,
    "id": "Fcr4R42JveGq"
   },
   "outputs": [],
   "source": []
  },
  {
   "cell_type": "markdown",
   "metadata": {
    "colab_type": "text",
    "id": "Zs34lnLTv4OB"
   },
   "source": [
    "#### Exercise 9: Find the distribution of values in the alive field ?"
   ]
  },
  {
   "cell_type": "code",
   "execution_count": 0,
   "metadata": {
    "colab": {},
    "colab_type": "code",
    "collapsed": true,
    "id": "Y7Pwx0Kdv4gZ"
   },
   "outputs": [],
   "source": []
  },
  {
   "cell_type": "markdown",
   "metadata": {
    "colab_type": "text",
    "id": "TTqFOJgLv43-"
   },
   "source": [
    "#### Exercise 10: What is the town with most passengers ?"
   ]
  },
  {
   "cell_type": "code",
   "execution_count": 0,
   "metadata": {
    "colab": {},
    "colab_type": "code",
    "collapsed": true,
    "id": "63NNwFMOv5OJ"
   },
   "outputs": [],
   "source": []
  },
  {
   "cell_type": "markdown",
   "metadata": {
    "colab_type": "text",
    "id": "4w0DPQsjxtHk"
   },
   "source": [
    "#### Exercise 11: Summarise the dataframe"
   ]
  },
  {
   "cell_type": "code",
   "execution_count": 0,
   "metadata": {
    "colab": {},
    "colab_type": "code",
    "collapsed": true,
    "id": "CGdnn1n7xtaU"
   },
   "outputs": [],
   "source": []
  },
  {
   "cell_type": "markdown",
   "metadata": {
    "colab_type": "text",
    "id": "Zl21ey4fyP90"
   },
   "source": [
    "#### Exercise 12: Summarise all the columns"
   ]
  },
  {
   "cell_type": "code",
   "execution_count": 0,
   "metadata": {
    "colab": {},
    "colab_type": "code",
    "collapsed": true,
    "id": "_fXeleLhyQVS"
   },
   "outputs": [],
   "source": []
  },
  {
   "cell_type": "markdown",
   "metadata": {
    "colab_type": "text",
    "id": "j3ki7BHYyuvp"
   },
   "source": [
    "#### Exercise 13: Summarize only the survived column"
   ]
  },
  {
   "cell_type": "code",
   "execution_count": 0,
   "metadata": {
    "colab": {},
    "colab_type": "code",
    "collapsed": true,
    "id": "N6QVoGHlyvD1"
   },
   "outputs": [],
   "source": []
  },
  {
   "cell_type": "markdown",
   "metadata": {
    "colab_type": "text",
    "id": "X_TuI0Zmyv_B"
   },
   "source": [
    "#### Exercise 14: What is the mean age of passengers?"
   ]
  },
  {
   "cell_type": "code",
   "execution_count": 0,
   "metadata": {
    "colab": {},
    "colab_type": "code",
    "collapsed": true,
    "id": "JcMvwv6kywQw"
   },
   "outputs": [],
   "source": []
  },
  {
   "cell_type": "markdown",
   "metadata": {
    "colab_type": "text",
    "id": "6l_h69xEywln"
   },
   "source": [
    "#### Exercise 15: What is the age with least occurrence?"
   ]
  },
  {
   "cell_type": "code",
   "execution_count": 0,
   "metadata": {
    "colab": {},
    "colab_type": "code",
    "collapsed": true,
    "id": "BocKlOebyw1X"
   },
   "outputs": [],
   "source": []
  },
  {
   "cell_type": "markdown",
   "metadata": {
    "colab_type": "text",
    "id": "2WNVLbDZO0bI"
   },
   "source": [
    "## Practice section 2: Filtering and Sorting"
   ]
  },
  {
   "cell_type": "markdown",
   "metadata": {
    "colab_type": "text",
    "id": "afHeQgv23fX8"
   },
   "source": [
    "#### Loading the nations dataset"
   ]
  },
  {
   "cell_type": "code",
   "execution_count": 0,
   "metadata": {
    "colab": {
     "base_uri": "https://localhost:8080/",
     "height": 289
    },
    "colab_type": "code",
    "executionInfo": {
     "elapsed": 866,
     "status": "ok",
     "timestamp": 1582726968313,
     "user": {
      "displayName": "vamsi krishna varma Gunturi",
      "photoUrl": "https://lh3.googleusercontent.com/a-/AAuE7mDVkOmeh-heN1CRRvocTxwJHmqAgsnqRMpzM2K4=s64",
      "userId": "07556360944980168619"
     },
     "user_tz": -60
    },
    "id": "OZNhCHDM3f86",
    "outputId": "a6e70c5a-bae0-413b-a939-fdfd123bfe63"
   },
   "outputs": [
    {
     "name": "stdout",
     "output_type": "stream",
     "text": [
      "<class 'pandas.core.frame.DataFrame'>\n",
      "RangeIndex: 5275 entries, 0 to 5274\n",
      "Data columns (total 11 columns):\n",
      "iso2c                 5250 non-null object\n",
      "iso3c                 5275 non-null object\n",
      "country               5275 non-null object\n",
      "year                  5275 non-null int64\n",
      "gdp_percap            4509 non-null float64\n",
      "life_expect           4882 non-null float64\n",
      "population            5261 non-null float64\n",
      "birth_rate            4980 non-null float64\n",
      "neonat_mortal_rate    4750 non-null float64\n",
      "region                5275 non-null object\n",
      "income                5275 non-null object\n",
      "dtypes: float64(5), int64(1), object(5)\n",
      "memory usage: 453.4+ KB\n"
     ]
    }
   ],
   "source": [
    "# Loading the titanic dataset from internet\n",
    "df = pd.read_csv(\"https://raw.githubusercontent.com/vamsivarma/datasets/master/data_science/pandas/nations.csv\") \n",
    "\n",
    "#print(df)\n",
    "\n",
    "df.info()"
   ]
  },
  {
   "cell_type": "markdown",
   "metadata": {
    "colab_type": "text",
    "id": "2V432xxk32qa"
   },
   "source": [
    "#### Exercise 1: Sort the dataset by country name"
   ]
  },
  {
   "cell_type": "code",
   "execution_count": 0,
   "metadata": {
    "colab": {},
    "colab_type": "code",
    "collapsed": true,
    "id": "zrRyRFbX328b"
   },
   "outputs": [],
   "source": []
  },
  {
   "cell_type": "markdown",
   "metadata": {
    "colab_type": "text",
    "id": "fmQIlArn33Uh"
   },
   "source": [
    "#### Exercise 2: Country with highest population"
   ]
  },
  {
   "cell_type": "code",
   "execution_count": 0,
   "metadata": {
    "colab": {},
    "colab_type": "code",
    "collapsed": true,
    "id": "qR31KLSi33nH"
   },
   "outputs": [],
   "source": []
  },
  {
   "cell_type": "markdown",
   "metadata": {
    "colab_type": "text",
    "id": "o5Dhxx3F333L"
   },
   "source": [
    "#### Exercise 3: Find the number of times China is there in the country coulumn in the dataset"
   ]
  },
  {
   "cell_type": "code",
   "execution_count": 0,
   "metadata": {
    "colab": {},
    "colab_type": "code",
    "collapsed": true,
    "id": "inkJsVDw34JS"
   },
   "outputs": [],
   "source": []
  },
  {
   "cell_type": "markdown",
   "metadata": {
    "colab_type": "text",
    "id": "XJEu6rLv34YJ"
   },
   "source": [
    "#### Exercise 4: View only the columns country, year, life_expect, birth_rate and assign them to a dataframe called filtered_df"
   ]
  },
  {
   "cell_type": "code",
   "execution_count": 0,
   "metadata": {
    "colab": {},
    "colab_type": "code",
    "collapsed": true,
    "id": "Xs7M1zQV34pz"
   },
   "outputs": [],
   "source": []
  },
  {
   "cell_type": "markdown",
   "metadata": {
    "colab_type": "text",
    "id": "icjgJdA-34_7"
   },
   "source": [
    "#### Exercise 5: Sort the dataset by life_expect and then by birth_rate"
   ]
  },
  {
   "cell_type": "code",
   "execution_count": 0,
   "metadata": {
    "colab": {},
    "colab_type": "code",
    "collapsed": true,
    "id": "RhQ4dF_B35ZN"
   },
   "outputs": [],
   "source": []
  },
  {
   "cell_type": "markdown",
   "metadata": {
    "colab_type": "text",
    "id": "fjcANDkP9AvL"
   },
   "source": [
    "#### Exercise 6: Filter the top 5 countries which have life expectancy more than 75"
   ]
  },
  {
   "cell_type": "code",
   "execution_count": 0,
   "metadata": {
    "colab": {},
    "colab_type": "code",
    "collapsed": true,
    "id": "k_9VSghD9BBX"
   },
   "outputs": [],
   "source": []
  },
  {
   "cell_type": "markdown",
   "metadata": {
    "colab_type": "text",
    "id": "x4Sy0OE99BSH"
   },
   "source": [
    "#### Exercise 7: Find the country names which start with G"
   ]
  },
  {
   "cell_type": "code",
   "execution_count": 0,
   "metadata": {
    "colab": {},
    "colab_type": "code",
    "collapsed": true,
    "id": "4zD3R8_L9Bjp"
   },
   "outputs": [],
   "source": []
  },
  {
   "cell_type": "markdown",
   "metadata": {
    "colab_type": "text",
    "id": "X1t0xGsh9ByQ"
   },
   "source": [
    "#### Exercise 8: Select the first 7 columns"
   ]
  },
  {
   "cell_type": "code",
   "execution_count": 0,
   "metadata": {
    "colab": {},
    "colab_type": "code",
    "collapsed": true,
    "id": "7xG3idXL9CBb"
   },
   "outputs": [],
   "source": []
  },
  {
   "cell_type": "markdown",
   "metadata": {
    "colab_type": "text",
    "id": "BncI4CHc8sDA"
   },
   "source": [
    "#### Exercise 9: Select all columns except the last 3."
   ]
  },
  {
   "cell_type": "code",
   "execution_count": 0,
   "metadata": {
    "colab": {},
    "colab_type": "code",
    "collapsed": true,
    "id": "NAJrgyh18sWd"
   },
   "outputs": [],
   "source": []
  },
  {
   "cell_type": "markdown",
   "metadata": {
    "colab_type": "text",
    "id": "clWkjHhgA4xc"
   },
   "source": [
    "#### Set the column country as the index of dataframe"
   ]
  },
  {
   "cell_type": "code",
   "execution_count": 0,
   "metadata": {
    "colab": {},
    "colab_type": "code",
    "collapsed": true,
    "id": "GIaak8_pA5Oz"
   },
   "outputs": [],
   "source": []
  },
  {
   "cell_type": "markdown",
   "metadata": {
    "colab_type": "text",
    "id": "jyPMpGmkE9Q1"
   },
   "source": [
    "#### Exercise 10: Find the Life_Expect, GDP_PERCAP from India and Italy"
   ]
  },
  {
   "cell_type": "code",
   "execution_count": 0,
   "metadata": {
    "colab": {},
    "colab_type": "code",
    "collapsed": true,
    "id": "lARh62EZE9oZ"
   },
   "outputs": [],
   "source": []
  },
  {
   "cell_type": "markdown",
   "metadata": {
    "colab_type": "text",
    "id": "x6WsU6GpF2W4"
   },
   "source": [
    "#### Exercise 11: Select the rows 3 to 7 and the columns 3 to 6"
   ]
  },
  {
   "cell_type": "code",
   "execution_count": 0,
   "metadata": {
    "colab": {},
    "colab_type": "code",
    "collapsed": true,
    "id": "tlUzV1s0F2uA"
   },
   "outputs": [],
   "source": []
  },
  {
   "cell_type": "markdown",
   "metadata": {
    "colab_type": "text",
    "id": "pR3ZxjPBHQwN"
   },
   "source": [
    "#### Exercise 12: Select every row after the fourth row and all columns\n"
   ]
  },
  {
   "cell_type": "code",
   "execution_count": 0,
   "metadata": {
    "colab": {},
    "colab_type": "code",
    "collapsed": true,
    "id": "q-TU2WS0HQ-u"
   },
   "outputs": [],
   "source": []
  },
  {
   "cell_type": "markdown",
   "metadata": {
    "colab_type": "text",
    "id": "Ec9TQrCeHRYQ"
   },
   "source": [
    "#### Exercise 13: Select every row up to the 4th row and all columns"
   ]
  },
  {
   "cell_type": "code",
   "execution_count": 0,
   "metadata": {
    "colab": {},
    "colab_type": "code",
    "collapsed": true,
    "id": "5viLcgeoHRoY"
   },
   "outputs": [],
   "source": []
  },
  {
   "cell_type": "markdown",
   "metadata": {
    "colab_type": "text",
    "id": "IggAf4w9HR6i"
   },
   "source": [
    "#### Exercise 14: Select the 3rd column up to the 7th column"
   ]
  },
  {
   "cell_type": "code",
   "execution_count": 0,
   "metadata": {
    "colab": {},
    "colab_type": "code",
    "collapsed": true,
    "id": "i501zaxxHSMy"
   },
   "outputs": [],
   "source": []
  },
  {
   "cell_type": "markdown",
   "metadata": {
    "colab_type": "text",
    "id": "kCQu-OKoHSlP"
   },
   "source": [
    "#### Exercise 15: Select rows where life_expect is greater than 50 or less than 70 "
   ]
  },
  {
   "cell_type": "code",
   "execution_count": 0,
   "metadata": {
    "colab": {},
    "colab_type": "code",
    "collapsed": true,
    "id": "FcVvHG4iHS28"
   },
   "outputs": [],
   "source": []
  },
  {
   "cell_type": "markdown",
   "metadata": {
    "colab_type": "text",
    "id": "983VBAgkO0l_"
   },
   "source": [
    "### Practice section 3: Grouping"
   ]
  },
  {
   "cell_type": "markdown",
   "metadata": {
    "colab_type": "text",
    "id": "IuoBpatdMs4S"
   },
   "source": [
    "#### Exercise 1: Find the mean of life_expect by region"
   ]
  },
  {
   "cell_type": "code",
   "execution_count": 0,
   "metadata": {
    "colab": {},
    "colab_type": "code",
    "collapsed": true,
    "id": "_rA6_i0WMtNc"
   },
   "outputs": [],
   "source": []
  },
  {
   "cell_type": "markdown",
   "metadata": {
    "colab_type": "text",
    "id": "ZFegdaUEOcwG"
   },
   "source": [
    "#### Exercise 2: Find the mean, median min and max values for life_expect grouped by region"
   ]
  },
  {
   "cell_type": "code",
   "execution_count": 0,
   "metadata": {
    "colab": {},
    "colab_type": "code",
    "collapsed": true,
    "id": "ieHoT7pkOdEa"
   },
   "outputs": [],
   "source": []
  },
  {
   "cell_type": "markdown",
   "metadata": {
    "colab_type": "text",
    "id": "z3rIp00qP0dF"
   },
   "source": [
    "#### Exercise 3: Find the mean, median min and max values for life_expect grouped by region and year"
   ]
  },
  {
   "cell_type": "code",
   "execution_count": 0,
   "metadata": {
    "colab": {},
    "colab_type": "code",
    "collapsed": true,
    "id": "zq_8XxUmP00s"
   },
   "outputs": [],
   "source": []
  },
  {
   "cell_type": "markdown",
   "metadata": {
    "colab_type": "text",
    "id": "ersVvMGYO0wr"
   },
   "source": [
    "### Practice section 4: Apply"
   ]
  },
  {
   "cell_type": "markdown",
   "metadata": {
    "colab_type": "text",
    "id": "2Fqp00QIRsK-"
   },
   "source": [
    "#### Exercise 1: Add a new column, \"life_expect_range\" to the dataset and if a row has life_expect more than 70, the value will of that column will be Good, if the life_expect is between 50 and 70 then the value will be Normal, if the life_expect is less than 50 then the value is Low"
   ]
  },
  {
   "cell_type": "code",
   "execution_count": 0,
   "metadata": {
    "colab": {},
    "colab_type": "code",
    "collapsed": true,
    "id": "etcNKGTQRsn6"
   },
   "outputs": [],
   "source": []
  },
  {
   "cell_type": "markdown",
   "metadata": {
    "colab_type": "text",
    "id": "4r9FHKphCGly"
   },
   "source": [
    "# Matplotlib\n",
    "\n",
    "##### Note: Basics can be found [here](https://colab.research.google.com/drive/1w1avCRKl_4Mj2e5aPMuRQGyqHxNrW647)"
   ]
  },
  {
   "cell_type": "code",
   "execution_count": 1,
   "metadata": {
    "colab": {
     "base_uri": "https://localhost:8080/",
     "height": 204
    },
    "colab_type": "code",
    "executionInfo": {
     "elapsed": 970,
     "status": "ok",
     "timestamp": 1582746728367,
     "user": {
      "displayName": "vamsi krishna varma Gunturi",
      "photoUrl": "https://lh3.googleusercontent.com/a-/AAuE7mDVkOmeh-heN1CRRvocTxwJHmqAgsnqRMpzM2K4=s64",
      "userId": "07556360944980168619"
     },
     "user_tz": -60
    },
    "id": "QoYQVqbvCG4U",
    "outputId": "24f42e16-7a83-4e87-86a0-f342af5d2c3c"
   },
   "outputs": [
    {
     "data": {
      "text/html": [
       "<div>\n",
       "<style scoped>\n",
       "    .dataframe tbody tr th:only-of-type {\n",
       "        vertical-align: middle;\n",
       "    }\n",
       "\n",
       "    .dataframe tbody tr th {\n",
       "        vertical-align: top;\n",
       "    }\n",
       "\n",
       "    .dataframe thead th {\n",
       "        text-align: right;\n",
       "    }\n",
       "</style>\n",
       "<table border=\"1\" class=\"dataframe\">\n",
       "  <thead>\n",
       "    <tr style=\"text-align: right;\">\n",
       "      <th></th>\n",
       "      <th>survived</th>\n",
       "      <th>pclass</th>\n",
       "      <th>sex</th>\n",
       "      <th>age</th>\n",
       "      <th>sibsp</th>\n",
       "      <th>parch</th>\n",
       "      <th>fare</th>\n",
       "      <th>embarked</th>\n",
       "      <th>class</th>\n",
       "      <th>who</th>\n",
       "      <th>adult_male</th>\n",
       "      <th>deck</th>\n",
       "      <th>embark_town</th>\n",
       "      <th>alive</th>\n",
       "      <th>alone</th>\n",
       "    </tr>\n",
       "  </thead>\n",
       "  <tbody>\n",
       "    <tr>\n",
       "      <th>0</th>\n",
       "      <td>0</td>\n",
       "      <td>3</td>\n",
       "      <td>male</td>\n",
       "      <td>22.0</td>\n",
       "      <td>1</td>\n",
       "      <td>0</td>\n",
       "      <td>7.2500</td>\n",
       "      <td>S</td>\n",
       "      <td>Third</td>\n",
       "      <td>man</td>\n",
       "      <td>True</td>\n",
       "      <td>NaN</td>\n",
       "      <td>Southampton</td>\n",
       "      <td>no</td>\n",
       "      <td>False</td>\n",
       "    </tr>\n",
       "    <tr>\n",
       "      <th>1</th>\n",
       "      <td>1</td>\n",
       "      <td>1</td>\n",
       "      <td>female</td>\n",
       "      <td>38.0</td>\n",
       "      <td>1</td>\n",
       "      <td>0</td>\n",
       "      <td>71.2833</td>\n",
       "      <td>C</td>\n",
       "      <td>First</td>\n",
       "      <td>woman</td>\n",
       "      <td>False</td>\n",
       "      <td>C</td>\n",
       "      <td>Cherbourg</td>\n",
       "      <td>yes</td>\n",
       "      <td>False</td>\n",
       "    </tr>\n",
       "    <tr>\n",
       "      <th>2</th>\n",
       "      <td>1</td>\n",
       "      <td>3</td>\n",
       "      <td>female</td>\n",
       "      <td>26.0</td>\n",
       "      <td>0</td>\n",
       "      <td>0</td>\n",
       "      <td>7.9250</td>\n",
       "      <td>S</td>\n",
       "      <td>Third</td>\n",
       "      <td>woman</td>\n",
       "      <td>False</td>\n",
       "      <td>NaN</td>\n",
       "      <td>Southampton</td>\n",
       "      <td>yes</td>\n",
       "      <td>True</td>\n",
       "    </tr>\n",
       "    <tr>\n",
       "      <th>3</th>\n",
       "      <td>1</td>\n",
       "      <td>1</td>\n",
       "      <td>female</td>\n",
       "      <td>35.0</td>\n",
       "      <td>1</td>\n",
       "      <td>0</td>\n",
       "      <td>53.1000</td>\n",
       "      <td>S</td>\n",
       "      <td>First</td>\n",
       "      <td>woman</td>\n",
       "      <td>False</td>\n",
       "      <td>C</td>\n",
       "      <td>Southampton</td>\n",
       "      <td>yes</td>\n",
       "      <td>False</td>\n",
       "    </tr>\n",
       "    <tr>\n",
       "      <th>4</th>\n",
       "      <td>0</td>\n",
       "      <td>3</td>\n",
       "      <td>male</td>\n",
       "      <td>35.0</td>\n",
       "      <td>0</td>\n",
       "      <td>0</td>\n",
       "      <td>8.0500</td>\n",
       "      <td>S</td>\n",
       "      <td>Third</td>\n",
       "      <td>man</td>\n",
       "      <td>True</td>\n",
       "      <td>NaN</td>\n",
       "      <td>Southampton</td>\n",
       "      <td>no</td>\n",
       "      <td>True</td>\n",
       "    </tr>\n",
       "  </tbody>\n",
       "</table>\n",
       "</div>"
      ],
      "text/plain": [
       "   survived  pclass     sex   age  ...  deck  embark_town  alive  alone\n",
       "0         0       3    male  22.0  ...   NaN  Southampton     no  False\n",
       "1         1       1  female  38.0  ...     C    Cherbourg    yes  False\n",
       "2         1       3  female  26.0  ...   NaN  Southampton    yes   True\n",
       "3         1       1  female  35.0  ...     C  Southampton    yes  False\n",
       "4         0       3    male  35.0  ...   NaN  Southampton     no   True\n",
       "\n",
       "[5 rows x 15 columns]"
      ]
     },
     "execution_count": 1,
     "metadata": {
      "tags": []
     },
     "output_type": "execute_result"
    }
   ],
   "source": [
    "# Import libraries and load dataset\n",
    "import pandas as pd\n",
    "import matplotlib.pyplot as plt\n",
    "import numpy as np\n",
    "\n",
    "# Loading the titanic dataset from internet\n",
    "df = pd.read_csv(\"https://raw.githubusercontent.com/mwaskom/seaborn-data/master/titanic.csv\") \n",
    "\n",
    "df.head()"
   ]
  },
  {
   "cell_type": "markdown",
   "metadata": {
    "colab_type": "text",
    "id": "ODoc0zmuZHcA"
   },
   "source": [
    "#### Exercise 1: Create a pie chart presenting the male/female proportion"
   ]
  },
  {
   "cell_type": "code",
   "execution_count": 0,
   "metadata": {
    "colab": {},
    "colab_type": "code",
    "collapsed": true,
    "id": "rkTVVRlZZH7R"
   },
   "outputs": [],
   "source": []
  },
  {
   "cell_type": "markdown",
   "metadata": {
    "colab_type": "text",
    "id": "hPDfveaPbM1E"
   },
   "source": [
    "#### Exercise 2: Bar chart to plot the number of people survived in each town"
   ]
  },
  {
   "cell_type": "code",
   "execution_count": 0,
   "metadata": {
    "colab": {},
    "colab_type": "code",
    "collapsed": true,
    "id": "gvwvcCwabNL2"
   },
   "outputs": [],
   "source": []
  },
  {
   "cell_type": "markdown",
   "metadata": {
    "colab_type": "text",
    "id": "jkEMS3X6BQrI"
   },
   "source": [
    "#### Useful references\n",
    "https://github.com/guipsamora/pandas_exercises - Includes a lot of practice exercises for Pandas"
   ]
  }
 ],
 "metadata": {
  "colab": {
   "authorship_tag": "ABX9TyOdPH9AQ3q/j8Ffl7SJQ1qS",
   "collapsed_sections": [],
   "name": "Exercises.ipynb",
   "provenance": [
    {
     "file_id": "1vj1Yc0nt8CIeoRJq3vn-Q94FxZldlYaW",
     "timestamp": 1582746188027
    }
   ]
  },
  "kernelspec": {
   "display_name": "Python 3",
   "language": "python",
   "name": "python3"
  },
  "language_info": {
   "codemirror_mode": {
    "name": "ipython",
    "version": 3
   },
   "file_extension": ".py",
   "mimetype": "text/x-python",
   "name": "python",
   "nbconvert_exporter": "python",
   "pygments_lexer": "ipython3",
   "version": "3.7.6"
  }
 },
 "nbformat": 4,
 "nbformat_minor": 1
}
